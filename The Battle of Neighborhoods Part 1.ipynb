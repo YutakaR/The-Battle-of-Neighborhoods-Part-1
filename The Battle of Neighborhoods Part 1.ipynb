{
 "cells": [
  {
   "cell_type": "markdown",
   "metadata": {
    "collapsed": true
   },
   "source": [
    "<h1>The Battle of Neighborhoods Part 1<h1>"
   ]
  },
  {
   "cell_type": "markdown",
   "metadata": {},
   "source": [
    "<h2>1. Introduction<h2>"
   ]
  },
  {
   "cell_type": "markdown",
   "metadata": {},
   "source": [
    "Objective: to figure out what kind of food in New Year City are popular as a part of point to attract more tourists."
   ]
  },
  {
   "cell_type": "markdown",
   "metadata": {},
   "source": [
    "New York City is a big famous city in the worldwide, base on a lot of immigrate live in the city and make different food cart/restaurant in here, we want to make a project to analysis the number of that in different area and provide a report about taste in the city and how to attract more tourists visited."
   ]
  },
  {
   "cell_type": "markdown",
   "metadata": {},
   "source": [
    "<h2>2. Explanation of Data<h2>"
   ]
  },
  {
   "cell_type": "markdown",
   "metadata": {},
   "source": [
    "The data shows different types of restaruant in New York City, and the fast food (included pizza, burger fast food, fried chicken restaruant)be the biggest number in different area and we aren't supriuse about that because same things happening in US nationalwide."
   ]
  },
  {
   "cell_type": "markdown",
   "metadata": {},
   "source": [
    "Most data is taking from New York University Spatial Data Repository. There is the output json file link: https://geo.nyu.edu/catalog/nyu_2451_34572l; and also we take the data from Geopy Library too."
   ]
  },
  {
   "cell_type": "markdown",
   "metadata": {},
   "source": [
    "If someone want to open a new restaruant, this data can be provide some suggestion for you; for example if you want open a Chinese food restaruant, you should be avoid some area which have a lot of Chinese restaurant because it will be make you harder to attract some customer from other restaurant. For example, in Arrochar, the Chinese food is the second popular in the list but it is 7th in Annadale."
   ]
  },
  {
   "cell_type": "code",
   "execution_count": null,
   "metadata": {},
   "outputs": [],
   "source": []
  }
 ],
 "metadata": {
  "kernelspec": {
   "display_name": "Python 3.6",
   "language": "python",
   "name": "python3"
  },
  "language_info": {
   "codemirror_mode": {
    "name": "ipython",
    "version": 3
   },
   "file_extension": ".py",
   "mimetype": "text/x-python",
   "name": "python",
   "nbconvert_exporter": "python",
   "pygments_lexer": "ipython3",
   "version": "3.6.9"
  }
 },
 "nbformat": 4,
 "nbformat_minor": 1
}
